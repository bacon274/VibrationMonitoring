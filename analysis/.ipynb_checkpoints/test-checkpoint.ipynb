{
 "cells": [
  {
   "cell_type": "code",
   "execution_count": null,
   "id": "1a441e56-a052-424a-bf72-a48ba3373018",
   "metadata": {},
   "outputs": [],
   "source": [
    "import torch.optim as optim\n",
    "from torch import nn\n",
    "from datasets.influx import InfluxData"
   ]
  },
  {
   "cell_type": "code",
   "execution_count": null,
   "id": "bb6a6a4f-ee8d-48ac-b76d-f12a27934e74",
   "metadata": {},
   "outputs": [],
   "source": [
    "influx_data = InfluxData()\n",
    "\n",
    "print(influx_data)"
   ]
  }
 ],
 "metadata": {
  "kernelspec": {
   "display_name": "Python 3 (ipykernel)",
   "language": "python",
   "name": "python3"
  },
  "language_info": {
   "codemirror_mode": {
    "name": "ipython",
    "version": 3
   },
   "file_extension": ".py",
   "mimetype": "text/x-python",
   "name": "python",
   "nbconvert_exporter": "python",
   "pygments_lexer": "ipython3",
   "version": "3.11.6"
  }
 },
 "nbformat": 4,
 "nbformat_minor": 5
}
